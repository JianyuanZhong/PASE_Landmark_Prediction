{
 "cells": [
  {
   "cell_type": "code",
   "execution_count": 1,
   "metadata": {},
   "outputs": [],
   "source": [
    "import matplotlib.pyplot as plt"
   ]
  },
  {
   "cell_type": "code",
   "execution_count": 2,
   "metadata": {},
   "outputs": [],
   "source": [
    "import torch\n",
    "import torch.optim as optim\n",
    "import json\n",
    "import pickle as pkl\n",
    "import argparse\n",
    "import os, sys\n",
    "import numpy as np"
   ]
  },
  {
   "cell_type": "code",
   "execution_count": 3,
   "metadata": {},
   "outputs": [
    {
     "name": "stdout",
     "output_type": "stream",
     "text": [
      "/u/jzhong9/landmarkGeneration\r\n"
     ]
    }
   ],
   "source": [
    "!pwd"
   ]
  },
  {
   "cell_type": "code",
   "execution_count": 4,
   "metadata": {},
   "outputs": [],
   "source": [
    "from core.model.pase2landmark import pase2landmark, paseConvLandmark"
   ]
  },
  {
   "cell_type": "code",
   "execution_count": 5,
   "metadata": {},
   "outputs": [],
   "source": [
    "data_cfg = '/home/cxu-serve/u1/jzhong9/landmarkGeneration/data/oppo_all.cfg'"
   ]
  },
  {
   "cell_type": "code",
   "execution_count": 6,
   "metadata": {},
   "outputs": [],
   "source": [
    "stat = '/home/cxu-serve/u1/jzhong9/landmarkGeneration/data/oppo_stat.pkl'"
   ]
  },
  {
   "cell_type": "code",
   "execution_count": 7,
   "metadata": {},
   "outputs": [],
   "source": [
    "PASE_cfg = \"/home/cxu-serve/u1/jzhong9/pase/cfg/PASE_MAT_sinc_jiany_512.cfg\""
   ]
  },
  {
   "cell_type": "code",
   "execution_count": 8,
   "metadata": {},
   "outputs": [],
   "source": [
    "MLP_cfg = \"cfg/MLP_linear.cfg\""
   ]
  },
  {
   "cell_type": "code",
   "execution_count": 9,
   "metadata": {},
   "outputs": [
    {
     "name": "stdout",
     "output_type": "stream",
     "text": [
      "==================================================\n",
      "PASE config: {'sinc_out': 64, 'sinc_stride': 8, 'hidden_dim': 512, 'kernel_sizes': [21, 11, 11, 11], 'strides': [5, 2, 2, 1], 'dilations': [1, 12, 24, 36], 'fmaps': [48, 48, 48, 48], 'name': 'asppRes', 'pool2d': [False, False, False, False], 'rnn_add': False, 'rnn_pool': False}\n",
      "==================================================\n",
      "MLP config: {'dnn_lay': '512,256,136', 'dnn_drop': '0.15,0.15,0.0', 'dnn_use_batchnorm': 'True,True,False', 'dnn_use_laynorm': 'False,False,False', 'dnn_use_laynorm_inp': 'False', 'dnn_use_batchnorm_inp': 'False', 'dnn_act': 'relu,relu,linear'}\n"
     ]
    }
   ],
   "source": [
    "with open(data_cfg, \"r\") as cfg:\n",
    "    data_cfg = json.load(cfg)\n",
    "\n",
    "with open(PASE_cfg, \"r\") as PASE_cfg:\n",
    "    print(\"=\" * 50)\n",
    "    PASE_cfg = json.load(PASE_cfg)\n",
    "    print(\"PASE config: {}\".format(PASE_cfg))\n",
    "\n",
    "with open(MLP_cfg, \"r\") as MLP_cfg:\n",
    "    print(\"=\" * 50)\n",
    "    MLP_cfg = json.load(MLP_cfg)\n",
    "    print(\"MLP config: {}\".format(MLP_cfg))\n",
    "\n",
    "with open(stat, \"rb\") as stt_file:\n",
    "    stat = pkl.load(stt_file)"
   ]
  },
  {
   "cell_type": "code",
   "execution_count": 10,
   "metadata": {},
   "outputs": [],
   "source": [
    "def get_freer_gpu(trials=10):\n",
    "    for j in range(trials):\n",
    "         os.system('nvidia-smi -q -d Memory |grep -A4 GPU|grep Free >tmp')\n",
    "         memory_available = [int(x.split()[2]) for x in open('tmp', 'r').readlines()]\n",
    "         dev_ = torch.device('cuda:'+str(np.argmax(memory_available)))\n",
    "         try:\n",
    "            a = torch.rand(1).cuda(dev_)\n",
    "            return dev_\n",
    "         except: \n",
    "            pass\n",
    "            print('NO GPU AVAILABLE!!!')\n",
    "            exit(1)\n",
    "            \n",
    "device = get_freer_gpu()"
   ]
  },
  {
   "cell_type": "code",
   "execution_count": 11,
   "metadata": {},
   "outputs": [],
   "source": [
    "PASE_ckpt = '../PASE_models/MATconv/FE_e62.ckpt'\n",
    "model = pase2landmark(PASE_cfg, MLP_cfg, PASE_ckpt).to(device)\n",
    "pase_optim = optim.Adam(model.pase.parameters(), lr=0.0001)\n",
    "mlp_optim = optim.Adam(model.mlp.parameters(), lr=0.001)"
   ]
  },
  {
   "cell_type": "code",
   "execution_count": 12,
   "metadata": {},
   "outputs": [
    {
     "name": "stdout",
     "output_type": "stream",
     "text": [
      "Reading latest checkpoint from /home/cxu-serve/u1/jzhong9/PASE2landmark/simple_mlp_no_norm_softmax_move_ref_temp_sep_loss_tanh/PASE-checkpoints...\n",
      "Reading latest checkpoint from /home/cxu-serve/u1/jzhong9/PASE2landmark/simple_mlp_no_norm_softmax_move_ref_temp_sep_loss_tanh/DECODER-checkpoints...\n",
      "Current Model keys:  338\n",
      "Current Pt keys:  338\n",
      "Loading matching keys:  ['sinc.low_hz_', 'sinc.band_hz_', 'ASPP_blocks.0.block1.0.aspp1.atrous_conv.weight', 'ASPP_blocks.0.block1.0.aspp1.bn.weight', 'ASPP_blocks.0.block1.0.aspp1.bn.bias', 'ASPP_blocks.0.block1.0.aspp1.bn.running_mean', 'ASPP_blocks.0.block1.0.aspp1.bn.running_var', 'ASPP_blocks.0.block1.0.aspp1.bn.num_batches_tracked', 'ASPP_blocks.0.block1.0.aspp2.atrous_conv.weight', 'ASPP_blocks.0.block1.0.aspp2.bn.weight', 'ASPP_blocks.0.block1.0.aspp2.bn.bias', 'ASPP_blocks.0.block1.0.aspp2.bn.running_mean', 'ASPP_blocks.0.block1.0.aspp2.bn.running_var', 'ASPP_blocks.0.block1.0.aspp2.bn.num_batches_tracked', 'ASPP_blocks.0.block1.0.aspp3.atrous_conv.weight', 'ASPP_blocks.0.block1.0.aspp3.bn.weight', 'ASPP_blocks.0.block1.0.aspp3.bn.bias', 'ASPP_blocks.0.block1.0.aspp3.bn.running_mean', 'ASPP_blocks.0.block1.0.aspp3.bn.running_var', 'ASPP_blocks.0.block1.0.aspp3.bn.num_batches_tracked', 'ASPP_blocks.0.block1.0.aspp4.atrous_conv.weight', 'ASPP_blocks.0.block1.0.aspp4.bn.weight', 'ASPP_blocks.0.block1.0.aspp4.bn.bias', 'ASPP_blocks.0.block1.0.aspp4.bn.running_mean', 'ASPP_blocks.0.block1.0.aspp4.bn.running_var', 'ASPP_blocks.0.block1.0.aspp4.bn.num_batches_tracked', 'ASPP_blocks.0.block1.0.global_avg_pool.1.weight', 'ASPP_blocks.0.block1.0.global_avg_pool.2.weight', 'ASPP_blocks.0.block1.0.global_avg_pool.2.bias', 'ASPP_blocks.0.block1.0.global_avg_pool.2.running_mean', 'ASPP_blocks.0.block1.0.global_avg_pool.2.running_var', 'ASPP_blocks.0.block1.0.global_avg_pool.2.num_batches_tracked', 'ASPP_blocks.0.block1.0.conv1.weight', 'ASPP_blocks.0.block1.0.bn1.weight', 'ASPP_blocks.0.block1.0.bn1.bias', 'ASPP_blocks.0.block1.0.bn1.running_mean', 'ASPP_blocks.0.block1.0.bn1.running_var', 'ASPP_blocks.0.block1.0.bn1.num_batches_tracked', 'ASPP_blocks.0.block1.1.weight', 'ASPP_blocks.0.block1.2.weight', 'ASPP_blocks.0.block1.2.bias', 'ASPP_blocks.0.block1.2.running_mean', 'ASPP_blocks.0.block1.2.running_var', 'ASPP_blocks.0.block1.2.num_batches_tracked', 'ASPP_blocks.0.block2.0.aspp1.atrous_conv.weight', 'ASPP_blocks.0.block2.0.aspp1.bn.weight', 'ASPP_blocks.0.block2.0.aspp1.bn.bias', 'ASPP_blocks.0.block2.0.aspp1.bn.running_mean', 'ASPP_blocks.0.block2.0.aspp1.bn.running_var', 'ASPP_blocks.0.block2.0.aspp1.bn.num_batches_tracked', 'ASPP_blocks.0.block2.0.aspp2.atrous_conv.weight', 'ASPP_blocks.0.block2.0.aspp2.bn.weight', 'ASPP_blocks.0.block2.0.aspp2.bn.bias', 'ASPP_blocks.0.block2.0.aspp2.bn.running_mean', 'ASPP_blocks.0.block2.0.aspp2.bn.running_var', 'ASPP_blocks.0.block2.0.aspp2.bn.num_batches_tracked', 'ASPP_blocks.0.block2.0.aspp3.atrous_conv.weight', 'ASPP_blocks.0.block2.0.aspp3.bn.weight', 'ASPP_blocks.0.block2.0.aspp3.bn.bias', 'ASPP_blocks.0.block2.0.aspp3.bn.running_mean', 'ASPP_blocks.0.block2.0.aspp3.bn.running_var', 'ASPP_blocks.0.block2.0.aspp3.bn.num_batches_tracked', 'ASPP_blocks.0.block2.0.aspp4.atrous_conv.weight', 'ASPP_blocks.0.block2.0.aspp4.bn.weight', 'ASPP_blocks.0.block2.0.aspp4.bn.bias', 'ASPP_blocks.0.block2.0.aspp4.bn.running_mean', 'ASPP_blocks.0.block2.0.aspp4.bn.running_var', 'ASPP_blocks.0.block2.0.aspp4.bn.num_batches_tracked', 'ASPP_blocks.0.block2.0.global_avg_pool.1.weight', 'ASPP_blocks.0.block2.0.global_avg_pool.2.weight', 'ASPP_blocks.0.block2.0.global_avg_pool.2.bias', 'ASPP_blocks.0.block2.0.global_avg_pool.2.running_mean', 'ASPP_blocks.0.block2.0.global_avg_pool.2.running_var', 'ASPP_blocks.0.block2.0.global_avg_pool.2.num_batches_tracked', 'ASPP_blocks.0.block2.0.conv1.weight', 'ASPP_blocks.0.block2.0.bn1.weight', 'ASPP_blocks.0.block2.0.bn1.bias', 'ASPP_blocks.0.block2.0.bn1.running_mean', 'ASPP_blocks.0.block2.0.bn1.running_var', 'ASPP_blocks.0.block2.0.bn1.num_batches_tracked', 'ASPP_blocks.0.block2.1.weight', 'ASPP_blocks.0.block2.2.weight', 'ASPP_blocks.0.block2.2.bias', 'ASPP_blocks.0.block2.2.running_mean', 'ASPP_blocks.0.block2.2.running_var', 'ASPP_blocks.0.block2.2.num_batches_tracked', 'ASPP_blocks.1.block1.0.aspp1.atrous_conv.weight', 'ASPP_blocks.1.block1.0.aspp1.bn.weight', 'ASPP_blocks.1.block1.0.aspp1.bn.bias', 'ASPP_blocks.1.block1.0.aspp1.bn.running_mean', 'ASPP_blocks.1.block1.0.aspp1.bn.running_var', 'ASPP_blocks.1.block1.0.aspp1.bn.num_batches_tracked', 'ASPP_blocks.1.block1.0.aspp2.atrous_conv.weight', 'ASPP_blocks.1.block1.0.aspp2.bn.weight', 'ASPP_blocks.1.block1.0.aspp2.bn.bias', 'ASPP_blocks.1.block1.0.aspp2.bn.running_mean', 'ASPP_blocks.1.block1.0.aspp2.bn.running_var', 'ASPP_blocks.1.block1.0.aspp2.bn.num_batches_tracked', 'ASPP_blocks.1.block1.0.aspp3.atrous_conv.weight', 'ASPP_blocks.1.block1.0.aspp3.bn.weight', 'ASPP_blocks.1.block1.0.aspp3.bn.bias', 'ASPP_blocks.1.block1.0.aspp3.bn.running_mean', 'ASPP_blocks.1.block1.0.aspp3.bn.running_var', 'ASPP_blocks.1.block1.0.aspp3.bn.num_batches_tracked', 'ASPP_blocks.1.block1.0.aspp4.atrous_conv.weight', 'ASPP_blocks.1.block1.0.aspp4.bn.weight', 'ASPP_blocks.1.block1.0.aspp4.bn.bias', 'ASPP_blocks.1.block1.0.aspp4.bn.running_mean', 'ASPP_blocks.1.block1.0.aspp4.bn.running_var', 'ASPP_blocks.1.block1.0.aspp4.bn.num_batches_tracked', 'ASPP_blocks.1.block1.0.global_avg_pool.1.weight', 'ASPP_blocks.1.block1.0.global_avg_pool.2.weight', 'ASPP_blocks.1.block1.0.global_avg_pool.2.bias', 'ASPP_blocks.1.block1.0.global_avg_pool.2.running_mean', 'ASPP_blocks.1.block1.0.global_avg_pool.2.running_var', 'ASPP_blocks.1.block1.0.global_avg_pool.2.num_batches_tracked', 'ASPP_blocks.1.block1.0.conv1.weight', 'ASPP_blocks.1.block1.0.bn1.weight', 'ASPP_blocks.1.block1.0.bn1.bias', 'ASPP_blocks.1.block1.0.bn1.running_mean', 'ASPP_blocks.1.block1.0.bn1.running_var', 'ASPP_blocks.1.block1.0.bn1.num_batches_tracked', 'ASPP_blocks.1.block1.1.weight', 'ASPP_blocks.1.block1.2.weight', 'ASPP_blocks.1.block1.2.bias', 'ASPP_blocks.1.block1.2.running_mean', 'ASPP_blocks.1.block1.2.running_var', 'ASPP_blocks.1.block1.2.num_batches_tracked', 'ASPP_blocks.1.block2.0.aspp1.atrous_conv.weight', 'ASPP_blocks.1.block2.0.aspp1.bn.weight', 'ASPP_blocks.1.block2.0.aspp1.bn.bias', 'ASPP_blocks.1.block2.0.aspp1.bn.running_mean', 'ASPP_blocks.1.block2.0.aspp1.bn.running_var', 'ASPP_blocks.1.block2.0.aspp1.bn.num_batches_tracked', 'ASPP_blocks.1.block2.0.aspp2.atrous_conv.weight', 'ASPP_blocks.1.block2.0.aspp2.bn.weight', 'ASPP_blocks.1.block2.0.aspp2.bn.bias', 'ASPP_blocks.1.block2.0.aspp2.bn.running_mean', 'ASPP_blocks.1.block2.0.aspp2.bn.running_var', 'ASPP_blocks.1.block2.0.aspp2.bn.num_batches_tracked', 'ASPP_blocks.1.block2.0.aspp3.atrous_conv.weight', 'ASPP_blocks.1.block2.0.aspp3.bn.weight', 'ASPP_blocks.1.block2.0.aspp3.bn.bias', 'ASPP_blocks.1.block2.0.aspp3.bn.running_mean', 'ASPP_blocks.1.block2.0.aspp3.bn.running_var', 'ASPP_blocks.1.block2.0.aspp3.bn.num_batches_tracked', 'ASPP_blocks.1.block2.0.aspp4.atrous_conv.weight', 'ASPP_blocks.1.block2.0.aspp4.bn.weight', 'ASPP_blocks.1.block2.0.aspp4.bn.bias', 'ASPP_blocks.1.block2.0.aspp4.bn.running_mean', 'ASPP_blocks.1.block2.0.aspp4.bn.running_var', 'ASPP_blocks.1.block2.0.aspp4.bn.num_batches_tracked', 'ASPP_blocks.1.block2.0.global_avg_pool.1.weight', 'ASPP_blocks.1.block2.0.global_avg_pool.2.weight', 'ASPP_blocks.1.block2.0.global_avg_pool.2.bias', 'ASPP_blocks.1.block2.0.global_avg_pool.2.running_mean', 'ASPP_blocks.1.block2.0.global_avg_pool.2.running_var', 'ASPP_blocks.1.block2.0.global_avg_pool.2.num_batches_tracked', 'ASPP_blocks.1.block2.0.conv1.weight', 'ASPP_blocks.1.block2.0.bn1.weight', 'ASPP_blocks.1.block2.0.bn1.bias', 'ASPP_blocks.1.block2.0.bn1.running_mean', 'ASPP_blocks.1.block2.0.bn1.running_var', 'ASPP_blocks.1.block2.0.bn1.num_batches_tracked', 'ASPP_blocks.1.block2.1.weight', 'ASPP_blocks.1.block2.2.weight', 'ASPP_blocks.1.block2.2.bias', 'ASPP_blocks.1.block2.2.running_mean', 'ASPP_blocks.1.block2.2.running_var', 'ASPP_blocks.1.block2.2.num_batches_tracked', 'ASPP_blocks.2.block1.0.aspp1.atrous_conv.weight', 'ASPP_blocks.2.block1.0.aspp1.bn.weight', 'ASPP_blocks.2.block1.0.aspp1.bn.bias', 'ASPP_blocks.2.block1.0.aspp1.bn.running_mean', 'ASPP_blocks.2.block1.0.aspp1.bn.running_var', 'ASPP_blocks.2.block1.0.aspp1.bn.num_batches_tracked', 'ASPP_blocks.2.block1.0.aspp2.atrous_conv.weight', 'ASPP_blocks.2.block1.0.aspp2.bn.weight', 'ASPP_blocks.2.block1.0.aspp2.bn.bias', 'ASPP_blocks.2.block1.0.aspp2.bn.running_mean', 'ASPP_blocks.2.block1.0.aspp2.bn.running_var', 'ASPP_blocks.2.block1.0.aspp2.bn.num_batches_tracked', 'ASPP_blocks.2.block1.0.aspp3.atrous_conv.weight', 'ASPP_blocks.2.block1.0.aspp3.bn.weight', 'ASPP_blocks.2.block1.0.aspp3.bn.bias', 'ASPP_blocks.2.block1.0.aspp3.bn.running_mean', 'ASPP_blocks.2.block1.0.aspp3.bn.running_var', 'ASPP_blocks.2.block1.0.aspp3.bn.num_batches_tracked', 'ASPP_blocks.2.block1.0.aspp4.atrous_conv.weight', 'ASPP_blocks.2.block1.0.aspp4.bn.weight', 'ASPP_blocks.2.block1.0.aspp4.bn.bias', 'ASPP_blocks.2.block1.0.aspp4.bn.running_mean', 'ASPP_blocks.2.block1.0.aspp4.bn.running_var', 'ASPP_blocks.2.block1.0.aspp4.bn.num_batches_tracked', 'ASPP_blocks.2.block1.0.global_avg_pool.1.weight', 'ASPP_blocks.2.block1.0.global_avg_pool.2.weight', 'ASPP_blocks.2.block1.0.global_avg_pool.2.bias', 'ASPP_blocks.2.block1.0.global_avg_pool.2.running_mean', 'ASPP_blocks.2.block1.0.global_avg_pool.2.running_var', 'ASPP_blocks.2.block1.0.global_avg_pool.2.num_batches_tracked', 'ASPP_blocks.2.block1.0.conv1.weight', 'ASPP_blocks.2.block1.0.bn1.weight', 'ASPP_blocks.2.block1.0.bn1.bias', 'ASPP_blocks.2.block1.0.bn1.running_mean', 'ASPP_blocks.2.block1.0.bn1.running_var', 'ASPP_blocks.2.block1.0.bn1.num_batches_tracked', 'ASPP_blocks.2.block1.1.weight', 'ASPP_blocks.2.block1.2.weight', 'ASPP_blocks.2.block1.2.bias', 'ASPP_blocks.2.block1.2.running_mean', 'ASPP_blocks.2.block1.2.running_var', 'ASPP_blocks.2.block1.2.num_batches_tracked', 'ASPP_blocks.2.block2.0.aspp1.atrous_conv.weight', 'ASPP_blocks.2.block2.0.aspp1.bn.weight', 'ASPP_blocks.2.block2.0.aspp1.bn.bias', 'ASPP_blocks.2.block2.0.aspp1.bn.running_mean', 'ASPP_blocks.2.block2.0.aspp1.bn.running_var', 'ASPP_blocks.2.block2.0.aspp1.bn.num_batches_tracked', 'ASPP_blocks.2.block2.0.aspp2.atrous_conv.weight', 'ASPP_blocks.2.block2.0.aspp2.bn.weight', 'ASPP_blocks.2.block2.0.aspp2.bn.bias', 'ASPP_blocks.2.block2.0.aspp2.bn.running_mean', 'ASPP_blocks.2.block2.0.aspp2.bn.running_var', 'ASPP_blocks.2.block2.0.aspp2.bn.num_batches_tracked', 'ASPP_blocks.2.block2.0.aspp3.atrous_conv.weight', 'ASPP_blocks.2.block2.0.aspp3.bn.weight', 'ASPP_blocks.2.block2.0.aspp3.bn.bias', 'ASPP_blocks.2.block2.0.aspp3.bn.running_mean', 'ASPP_blocks.2.block2.0.aspp3.bn.running_var', 'ASPP_blocks.2.block2.0.aspp3.bn.num_batches_tracked', 'ASPP_blocks.2.block2.0.aspp4.atrous_conv.weight', 'ASPP_blocks.2.block2.0.aspp4.bn.weight', 'ASPP_blocks.2.block2.0.aspp4.bn.bias', 'ASPP_blocks.2.block2.0.aspp4.bn.running_mean', 'ASPP_blocks.2.block2.0.aspp4.bn.running_var', 'ASPP_blocks.2.block2.0.aspp4.bn.num_batches_tracked', 'ASPP_blocks.2.block2.0.global_avg_pool.1.weight', 'ASPP_blocks.2.block2.0.global_avg_pool.2.weight', 'ASPP_blocks.2.block2.0.global_avg_pool.2.bias', 'ASPP_blocks.2.block2.0.global_avg_pool.2.running_mean', 'ASPP_blocks.2.block2.0.global_avg_pool.2.running_var', 'ASPP_blocks.2.block2.0.global_avg_pool.2.num_batches_tracked', 'ASPP_blocks.2.block2.0.conv1.weight', 'ASPP_blocks.2.block2.0.bn1.weight', 'ASPP_blocks.2.block2.0.bn1.bias', 'ASPP_blocks.2.block2.0.bn1.running_mean', 'ASPP_blocks.2.block2.0.bn1.running_var', 'ASPP_blocks.2.block2.0.bn1.num_batches_tracked', 'ASPP_blocks.2.block2.1.weight', 'ASPP_blocks.2.block2.2.weight', 'ASPP_blocks.2.block2.2.bias', 'ASPP_blocks.2.block2.2.running_mean', 'ASPP_blocks.2.block2.2.running_var', 'ASPP_blocks.2.block2.2.num_batches_tracked', 'ASPP_blocks.3.block1.0.aspp1.atrous_conv.weight', 'ASPP_blocks.3.block1.0.aspp1.bn.weight', 'ASPP_blocks.3.block1.0.aspp1.bn.bias', 'ASPP_blocks.3.block1.0.aspp1.bn.running_mean', 'ASPP_blocks.3.block1.0.aspp1.bn.running_var', 'ASPP_blocks.3.block1.0.aspp1.bn.num_batches_tracked', 'ASPP_blocks.3.block1.0.aspp2.atrous_conv.weight', 'ASPP_blocks.3.block1.0.aspp2.bn.weight', 'ASPP_blocks.3.block1.0.aspp2.bn.bias', 'ASPP_blocks.3.block1.0.aspp2.bn.running_mean', 'ASPP_blocks.3.block1.0.aspp2.bn.running_var', 'ASPP_blocks.3.block1.0.aspp2.bn.num_batches_tracked', 'ASPP_blocks.3.block1.0.aspp3.atrous_conv.weight', 'ASPP_blocks.3.block1.0.aspp3.bn.weight', 'ASPP_blocks.3.block1.0.aspp3.bn.bias', 'ASPP_blocks.3.block1.0.aspp3.bn.running_mean', 'ASPP_blocks.3.block1.0.aspp3.bn.running_var', 'ASPP_blocks.3.block1.0.aspp3.bn.num_batches_tracked', 'ASPP_blocks.3.block1.0.aspp4.atrous_conv.weight', 'ASPP_blocks.3.block1.0.aspp4.bn.weight', 'ASPP_blocks.3.block1.0.aspp4.bn.bias', 'ASPP_blocks.3.block1.0.aspp4.bn.running_mean', 'ASPP_blocks.3.block1.0.aspp4.bn.running_var', 'ASPP_blocks.3.block1.0.aspp4.bn.num_batches_tracked', 'ASPP_blocks.3.block1.0.global_avg_pool.1.weight', 'ASPP_blocks.3.block1.0.global_avg_pool.2.weight', 'ASPP_blocks.3.block1.0.global_avg_pool.2.bias', 'ASPP_blocks.3.block1.0.global_avg_pool.2.running_mean', 'ASPP_blocks.3.block1.0.global_avg_pool.2.running_var', 'ASPP_blocks.3.block1.0.global_avg_pool.2.num_batches_tracked', 'ASPP_blocks.3.block1.0.conv1.weight', 'ASPP_blocks.3.block1.0.bn1.weight', 'ASPP_blocks.3.block1.0.bn1.bias', 'ASPP_blocks.3.block1.0.bn1.running_mean', 'ASPP_blocks.3.block1.0.bn1.running_var', 'ASPP_blocks.3.block1.0.bn1.num_batches_tracked', 'ASPP_blocks.3.block1.1.weight', 'ASPP_blocks.3.block1.2.weight', 'ASPP_blocks.3.block1.2.bias', 'ASPP_blocks.3.block1.2.running_mean', 'ASPP_blocks.3.block1.2.running_var', 'ASPP_blocks.3.block1.2.num_batches_tracked', 'ASPP_blocks.3.block2.0.aspp1.atrous_conv.weight', 'ASPP_blocks.3.block2.0.aspp1.bn.weight', 'ASPP_blocks.3.block2.0.aspp1.bn.bias', 'ASPP_blocks.3.block2.0.aspp1.bn.running_mean', 'ASPP_blocks.3.block2.0.aspp1.bn.running_var', 'ASPP_blocks.3.block2.0.aspp1.bn.num_batches_tracked', 'ASPP_blocks.3.block2.0.aspp2.atrous_conv.weight', 'ASPP_blocks.3.block2.0.aspp2.bn.weight', 'ASPP_blocks.3.block2.0.aspp2.bn.bias', 'ASPP_blocks.3.block2.0.aspp2.bn.running_mean', 'ASPP_blocks.3.block2.0.aspp2.bn.running_var', 'ASPP_blocks.3.block2.0.aspp2.bn.num_batches_tracked', 'ASPP_blocks.3.block2.0.aspp3.atrous_conv.weight', 'ASPP_blocks.3.block2.0.aspp3.bn.weight', 'ASPP_blocks.3.block2.0.aspp3.bn.bias', 'ASPP_blocks.3.block2.0.aspp3.bn.running_mean', 'ASPP_blocks.3.block2.0.aspp3.bn.running_var', 'ASPP_blocks.3.block2.0.aspp3.bn.num_batches_tracked', 'ASPP_blocks.3.block2.0.aspp4.atrous_conv.weight', 'ASPP_blocks.3.block2.0.aspp4.bn.weight', 'ASPP_blocks.3.block2.0.aspp4.bn.bias', 'ASPP_blocks.3.block2.0.aspp4.bn.running_mean', 'ASPP_blocks.3.block2.0.aspp4.bn.running_var', 'ASPP_blocks.3.block2.0.aspp4.bn.num_batches_tracked', 'ASPP_blocks.3.block2.0.global_avg_pool.1.weight', 'ASPP_blocks.3.block2.0.global_avg_pool.2.weight', 'ASPP_blocks.3.block2.0.global_avg_pool.2.bias', 'ASPP_blocks.3.block2.0.global_avg_pool.2.running_mean', 'ASPP_blocks.3.block2.0.global_avg_pool.2.running_var', 'ASPP_blocks.3.block2.0.global_avg_pool.2.num_batches_tracked', 'ASPP_blocks.3.block2.0.conv1.weight', 'ASPP_blocks.3.block2.0.bn1.weight', 'ASPP_blocks.3.block2.0.bn1.bias', 'ASPP_blocks.3.block2.0.bn1.running_mean', 'ASPP_blocks.3.block2.0.bn1.running_var', 'ASPP_blocks.3.block2.0.bn1.num_batches_tracked', 'ASPP_blocks.3.block2.1.weight', 'ASPP_blocks.3.block2.2.weight', 'ASPP_blocks.3.block2.2.bias', 'ASPP_blocks.3.block2.2.running_mean', 'ASPP_blocks.3.block2.2.running_var', 'ASPP_blocks.3.block2.2.num_batches_tracked']\n"
     ]
    },
    {
     "name": "stdout",
     "output_type": "stream",
     "text": [
      "Current Model keys:  27\n",
      "Current Pt keys:  27\n",
      "Loading matching keys:  ['wx.0.weight', 'wx.0.bias', 'wx.1.weight', 'wx.1.bias', 'wx.2.weight', 'wx.2.bias', 'bn.0.weight', 'bn.0.bias', 'bn.0.running_mean', 'bn.0.running_var', 'bn.0.num_batches_tracked', 'bn.1.weight', 'bn.1.bias', 'bn.1.running_mean', 'bn.1.running_var', 'bn.1.num_batches_tracked', 'bn.2.weight', 'bn.2.bias', 'bn.2.running_mean', 'bn.2.running_var', 'bn.2.num_batches_tracked', 'ln.0.gamma', 'ln.0.beta', 'ln.1.gamma', 'ln.1.beta', 'ln.2.gamma', 'ln.2.beta']\n"
     ]
    }
   ],
   "source": [
    "from pase.models.modules import Saver\n",
    "\n",
    "save_path = \"/home/cxu-serve/u1/jzhong9/PASE2landmark/simple_mlp_no_norm_softmax_move_ref_temp_sep_loss_tanh\"\n",
    "\n",
    "pase_saver = Saver(model.pase, save_path, max_ckpts=5, optimizer=pase_optim, prefix='PASE-')\n",
    "decoder_saver = Saver(model.mlp,save_path, max_ckpts=5, optimizer=mlp_optim, prefix='DECODER-')\n",
    "\n",
    "pase_state = pase_saver.read_latest_checkpoint()\n",
    "\n",
    "decoder_state = decoder_saver.read_latest_checkpoint()\n",
    "\n",
    "pase_saver.load_pretrained_ckpt(os.path.join(save_path,\n",
    "                                                        'weights_' + pase_state),\n",
    "                                           load_last=True)\n",
    "\n",
    "decoder_saver.load_pretrained_ckpt(os.path.join(save_path,\n",
    "                                                        'weights_' + decoder_state),\n",
    "                                           load_last=True)\n",
    "\n"
   ]
  },
  {
   "cell_type": "code",
   "execution_count": 13,
   "metadata": {},
   "outputs": [],
   "source": [
    "from core.dataset import audio2landmark, audio2landmark_norm\n",
    "from torch.utils.data import DataLoader\n",
    "audio_root = data_cfg['audio_root']\n",
    "landmark_root = data_cfg['landmark_root']\n",
    "testset = audio2landmark_norm(data_cfg['test'], audio_root, landmark_root, stat, False, None)\n",
    "test_loader = DataLoader(testset, batch_size=2, num_workers=1, shuffle=False, pin_memory=False)"
   ]
  },
  {
   "cell_type": "code",
   "execution_count": 14,
   "metadata": {},
   "outputs": [
    {
     "name": "stdout",
     "output_type": "stream",
     "text": [
      "torch.Size([1, 1, 48000]) torch.Size([1, 75, 136])\n",
      "torch.Size([1, 1, 48000]) torch.Size([1, 75, 136])\n",
      "(75, 68, 2)\n",
      "/home/cxu-serve/p1/jzhong9/data/oppo/img/s30/pwit3p\n"
     ]
    }
   ],
   "source": [
    "preds = []\n",
    "for i, wav_file in enumerate(data_cfg['test']['wav']):\n",
    "    \n",
    "    wav, landmark, reg = testset.__getitem__(i)\n",
    "    img_paths = os.path.join(\"/home/cxu-serve/p1/jzhong9/data/oppo/img/\", wav_file.split('.')[0])\n",
    "    \n",
    "    wav, landmark, reg = wav.unsqueeze(0).to(device), landmark.unsqueeze(0).to(device), reg.unsqueeze(0).to(device)\n",
    "    print(wav.shape, landmark.shape)\n",
    "    model.eval()\n",
    "    pred = model(wav, reg, use_ref=True, movement=25)\n",
    "    pred = pred.detach().cpu().view(pred.shape[0], pred.shape[1],pred.shape[2]//2, 2).squeeze()\n",
    "#     pred = (pred.numpy()) * (stat['landmark']['max'] - stat['landmark']['min'])  + stat['landmark']['min']\n",
    "    pred = pred.numpy()\n",
    "    landmark = landmark.detach().cpu().view(landmark.shape[0], landmark.shape[1],landmark.shape[2]//2, 2).squeeze()\n",
    "#     landmark = (landmark.numpy()) * (stat['landmark']['max'] - stat['landmark']['min']) + stat['landmark']['min']\n",
    "    landmark = landmark.numpy()\n",
    "    \n",
    "    if i > 0: break\n",
    "    \n",
    "print(landmark.shape)\n",
    "print(img_paths)"
   ]
  },
  {
   "cell_type": "code",
   "execution_count": 15,
   "metadata": {},
   "outputs": [
    {
     "data": {
      "text/plain": [
       "1153.0"
      ]
     },
     "execution_count": 15,
     "metadata": {},
     "output_type": "execute_result"
    }
   ],
   "source": [
    "np.sum(landmark[1][60:68])"
   ]
  },
  {
   "cell_type": "code",
   "execution_count": 16,
   "metadata": {},
   "outputs": [
    {
     "data": {
      "text/plain": [
       "1163.0"
      ]
     },
     "execution_count": 16,
     "metadata": {},
     "output_type": "execute_result"
    }
   ],
   "source": [
    "\n",
    "np.sum(landmark[49][60:68])"
   ]
  },
  {
   "cell_type": "code",
   "execution_count": 17,
   "metadata": {},
   "outputs": [],
   "source": [
    "import matplotlib.pyplot as plt\n",
    "import cv2 as cv\n",
    "def vis(lists): # a list [frame, landmark, frame, landmark]\n",
    "        windows = len(lists)\n",
    "        fig = plt.figure(figsize=plt.figaspect(.5))\n",
    "        print(lists.shape, windows)\n",
    "        frames = []\n",
    "        for i in range(windows):\n",
    "            frame_id = i + 1\n",
    "            print(\"/home/cxu-serve/p1/jzhong9/data/oppo/img/s30/pgwo7p/\" + \"0000{}.png\".format(frame_id))\n",
    "#             fig = plt.figure(figsize=plt.figaspect(.5))\n",
    "            if frame_id < 10:\n",
    "                img = cv.imread(\"/home/cxu-serve/p1/jzhong9/data/oppo/img/s30/pwit3p/\" + \"0000{}.png\".format(frame_id))\n",
    "            else:\n",
    "                img = cv.imread(\"/home/cxu-serve/p1/jzhong9/data/oppo/img/s30/pwit3p/\" + \"000{}.png\".format(frame_id))\n",
    "            img = cv.resize(img ,None,fx=0.5714,fy=0.5714)\n",
    "            preds = lists[i]\n",
    "            ax = plt\n",
    "#             ax = fig\n",
    "            ax.imshow(img)\n",
    "            ax.plot(preds[0:17,0],preds[0:17,1],marker='o',markersize=1,linestyle='-',color='b',lw=1)\n",
    "            ax.plot(preds[17:22,0],preds[17:22,1],marker='o',markersize=1,linestyle='-',color='b',lw=1)\n",
    "            ax.plot(preds[22:27,0],preds[22:27,1],marker='o',markersize=1,linestyle='-',color='b',lw=1)\n",
    "            ax.plot(preds[27:31,0],preds[27:31,1],marker='o',markersize=1,linestyle='-',color='b',lw=1)\n",
    "            ax.plot(preds[31:36,0],preds[31:36,1],marker='o',markersize=1,linestyle='-',color='b',lw=1)\n",
    "            ax.plot(preds[36:42,0],preds[36:42,1],marker='o',markersize=1,linestyle='-',color='b',lw=1)\n",
    "            ax.plot(preds[42:48,0],preds[42:48,1],marker='o',markersize=1,linestyle='-',color='b',lw=1)\n",
    "            ax.plot(preds[48:60,0],preds[48:60,1],marker='o',markersize=1,linestyle='-',color='b',lw=1)\n",
    "            ax.plot(preds[60:68,0],preds[60:68,1],marker='o',markersize=1,linestyle='-',color='b',lw=1)\n",
    "            ax.axis('off')\n",
    "            \n",
    "            plt.savefig(\"results/pred\" + \"/%03d.png\" % i)\n",
    "            plt.close()\n",
    "\n",
    "        \n",
    "        plt.show()"
   ]
  },
  {
   "cell_type": "code",
   "execution_count": 18,
   "metadata": {
    "scrolled": true
   },
   "outputs": [
    {
     "name": "stdout",
     "output_type": "stream",
     "text": [
      "(75, 68, 2) 75\n",
      "/home/cxu-serve/p1/jzhong9/data/oppo/img/s30/pgwo7p/00001.png\n",
      "/home/cxu-serve/p1/jzhong9/data/oppo/img/s30/pgwo7p/00002.png\n",
      "/home/cxu-serve/p1/jzhong9/data/oppo/img/s30/pgwo7p/00003.png\n",
      "/home/cxu-serve/p1/jzhong9/data/oppo/img/s30/pgwo7p/00004.png\n",
      "/home/cxu-serve/p1/jzhong9/data/oppo/img/s30/pgwo7p/00005.png\n",
      "/home/cxu-serve/p1/jzhong9/data/oppo/img/s30/pgwo7p/00006.png\n",
      "/home/cxu-serve/p1/jzhong9/data/oppo/img/s30/pgwo7p/00007.png\n",
      "/home/cxu-serve/p1/jzhong9/data/oppo/img/s30/pgwo7p/00008.png\n",
      "/home/cxu-serve/p1/jzhong9/data/oppo/img/s30/pgwo7p/00009.png\n",
      "/home/cxu-serve/p1/jzhong9/data/oppo/img/s30/pgwo7p/000010.png\n",
      "/home/cxu-serve/p1/jzhong9/data/oppo/img/s30/pgwo7p/000011.png\n",
      "/home/cxu-serve/p1/jzhong9/data/oppo/img/s30/pgwo7p/000012.png\n",
      "/home/cxu-serve/p1/jzhong9/data/oppo/img/s30/pgwo7p/000013.png\n",
      "/home/cxu-serve/p1/jzhong9/data/oppo/img/s30/pgwo7p/000014.png\n",
      "/home/cxu-serve/p1/jzhong9/data/oppo/img/s30/pgwo7p/000015.png\n",
      "/home/cxu-serve/p1/jzhong9/data/oppo/img/s30/pgwo7p/000016.png\n",
      "/home/cxu-serve/p1/jzhong9/data/oppo/img/s30/pgwo7p/000017.png\n",
      "/home/cxu-serve/p1/jzhong9/data/oppo/img/s30/pgwo7p/000018.png\n",
      "/home/cxu-serve/p1/jzhong9/data/oppo/img/s30/pgwo7p/000019.png\n",
      "/home/cxu-serve/p1/jzhong9/data/oppo/img/s30/pgwo7p/000020.png\n",
      "/home/cxu-serve/p1/jzhong9/data/oppo/img/s30/pgwo7p/000021.png\n",
      "/home/cxu-serve/p1/jzhong9/data/oppo/img/s30/pgwo7p/000022.png\n",
      "/home/cxu-serve/p1/jzhong9/data/oppo/img/s30/pgwo7p/000023.png\n",
      "/home/cxu-serve/p1/jzhong9/data/oppo/img/s30/pgwo7p/000024.png\n",
      "/home/cxu-serve/p1/jzhong9/data/oppo/img/s30/pgwo7p/000025.png\n",
      "/home/cxu-serve/p1/jzhong9/data/oppo/img/s30/pgwo7p/000026.png\n",
      "/home/cxu-serve/p1/jzhong9/data/oppo/img/s30/pgwo7p/000027.png\n",
      "/home/cxu-serve/p1/jzhong9/data/oppo/img/s30/pgwo7p/000028.png\n",
      "/home/cxu-serve/p1/jzhong9/data/oppo/img/s30/pgwo7p/000029.png\n",
      "/home/cxu-serve/p1/jzhong9/data/oppo/img/s30/pgwo7p/000030.png\n",
      "/home/cxu-serve/p1/jzhong9/data/oppo/img/s30/pgwo7p/000031.png\n",
      "/home/cxu-serve/p1/jzhong9/data/oppo/img/s30/pgwo7p/000032.png\n",
      "/home/cxu-serve/p1/jzhong9/data/oppo/img/s30/pgwo7p/000033.png\n",
      "/home/cxu-serve/p1/jzhong9/data/oppo/img/s30/pgwo7p/000034.png\n",
      "/home/cxu-serve/p1/jzhong9/data/oppo/img/s30/pgwo7p/000035.png\n",
      "/home/cxu-serve/p1/jzhong9/data/oppo/img/s30/pgwo7p/000036.png\n",
      "/home/cxu-serve/p1/jzhong9/data/oppo/img/s30/pgwo7p/000037.png\n",
      "/home/cxu-serve/p1/jzhong9/data/oppo/img/s30/pgwo7p/000038.png\n",
      "/home/cxu-serve/p1/jzhong9/data/oppo/img/s30/pgwo7p/000039.png\n",
      "/home/cxu-serve/p1/jzhong9/data/oppo/img/s30/pgwo7p/000040.png\n",
      "/home/cxu-serve/p1/jzhong9/data/oppo/img/s30/pgwo7p/000041.png\n",
      "/home/cxu-serve/p1/jzhong9/data/oppo/img/s30/pgwo7p/000042.png\n",
      "/home/cxu-serve/p1/jzhong9/data/oppo/img/s30/pgwo7p/000043.png\n",
      "/home/cxu-serve/p1/jzhong9/data/oppo/img/s30/pgwo7p/000044.png\n",
      "/home/cxu-serve/p1/jzhong9/data/oppo/img/s30/pgwo7p/000045.png\n",
      "/home/cxu-serve/p1/jzhong9/data/oppo/img/s30/pgwo7p/000046.png\n",
      "/home/cxu-serve/p1/jzhong9/data/oppo/img/s30/pgwo7p/000047.png\n",
      "/home/cxu-serve/p1/jzhong9/data/oppo/img/s30/pgwo7p/000048.png\n",
      "/home/cxu-serve/p1/jzhong9/data/oppo/img/s30/pgwo7p/000049.png\n",
      "/home/cxu-serve/p1/jzhong9/data/oppo/img/s30/pgwo7p/000050.png\n",
      "/home/cxu-serve/p1/jzhong9/data/oppo/img/s30/pgwo7p/000051.png\n",
      "/home/cxu-serve/p1/jzhong9/data/oppo/img/s30/pgwo7p/000052.png\n",
      "/home/cxu-serve/p1/jzhong9/data/oppo/img/s30/pgwo7p/000053.png\n",
      "/home/cxu-serve/p1/jzhong9/data/oppo/img/s30/pgwo7p/000054.png\n",
      "/home/cxu-serve/p1/jzhong9/data/oppo/img/s30/pgwo7p/000055.png\n",
      "/home/cxu-serve/p1/jzhong9/data/oppo/img/s30/pgwo7p/000056.png\n",
      "/home/cxu-serve/p1/jzhong9/data/oppo/img/s30/pgwo7p/000057.png\n",
      "/home/cxu-serve/p1/jzhong9/data/oppo/img/s30/pgwo7p/000058.png\n",
      "/home/cxu-serve/p1/jzhong9/data/oppo/img/s30/pgwo7p/000059.png\n",
      "/home/cxu-serve/p1/jzhong9/data/oppo/img/s30/pgwo7p/000060.png\n",
      "/home/cxu-serve/p1/jzhong9/data/oppo/img/s30/pgwo7p/000061.png\n",
      "/home/cxu-serve/p1/jzhong9/data/oppo/img/s30/pgwo7p/000062.png\n",
      "/home/cxu-serve/p1/jzhong9/data/oppo/img/s30/pgwo7p/000063.png\n",
      "/home/cxu-serve/p1/jzhong9/data/oppo/img/s30/pgwo7p/000064.png\n",
      "/home/cxu-serve/p1/jzhong9/data/oppo/img/s30/pgwo7p/000065.png\n",
      "/home/cxu-serve/p1/jzhong9/data/oppo/img/s30/pgwo7p/000066.png\n",
      "/home/cxu-serve/p1/jzhong9/data/oppo/img/s30/pgwo7p/000067.png\n",
      "/home/cxu-serve/p1/jzhong9/data/oppo/img/s30/pgwo7p/000068.png\n",
      "/home/cxu-serve/p1/jzhong9/data/oppo/img/s30/pgwo7p/000069.png\n",
      "/home/cxu-serve/p1/jzhong9/data/oppo/img/s30/pgwo7p/000070.png\n",
      "/home/cxu-serve/p1/jzhong9/data/oppo/img/s30/pgwo7p/000071.png\n",
      "/home/cxu-serve/p1/jzhong9/data/oppo/img/s30/pgwo7p/000072.png\n",
      "/home/cxu-serve/p1/jzhong9/data/oppo/img/s30/pgwo7p/000073.png\n",
      "/home/cxu-serve/p1/jzhong9/data/oppo/img/s30/pgwo7p/000074.png\n",
      "/home/cxu-serve/p1/jzhong9/data/oppo/img/s30/pgwo7p/000075.png\n"
     ]
    }
   ],
   "source": [
    "vis(pred)"
   ]
  },
  {
   "cell_type": "code",
   "execution_count": null,
   "metadata": {},
   "outputs": [],
   "source": []
  },
  {
   "cell_type": "code",
   "execution_count": null,
   "metadata": {},
   "outputs": [],
   "source": []
  }
 ],
 "metadata": {
  "kernelspec": {
   "display_name": "Python 3",
   "language": "python",
   "name": "python3"
  },
  "language_info": {
   "codemirror_mode": {
    "name": "ipython",
    "version": 3
   },
   "file_extension": ".py",
   "mimetype": "text/x-python",
   "name": "python",
   "nbconvert_exporter": "python",
   "pygments_lexer": "ipython3",
   "version": "3.7.4"
  }
 },
 "nbformat": 4,
 "nbformat_minor": 2
}
